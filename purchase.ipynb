{
  "nbformat": 4,
  "nbformat_minor": 0,
  "metadata": {
    "colab": {
      "name": "purchase.ipynb",
      "provenance": []
    },
    "kernelspec": {
      "name": "python3",
      "display_name": "Python 3"
    },
    "language_info": {
      "name": "python"
    }
  },
  "cells": [
    {
      "cell_type": "markdown",
      "metadata": {
        "id": "WRL_WJvxFb7A"
      },
      "source": [
        "### **INVENTORY**"
      ]
    },
    {
      "cell_type": "code",
      "metadata": {
        "id": "hSBz1pyAFWSu",
        "colab": {
          "base_uri": "https://localhost:8080/"
        },
        "outputId": "70d496e9-51d8-4876-8330-ea8592a21a89"
      },
      "source": [
        "import json\n",
        "file = open(\"record.json\",'r')\n",
        "r = file.read()\n",
        "file.close()\n",
        "record = json.loads(r)\n",
        "print(\"******************************************************\\n\")\n",
        "print(\"Product ID\".center(15)+\"PRODUCT NAME\".center(25)+\"QUANTITY\".center(15)+\"\\n\")\n",
        "print(\"******************************************************\\n\")\n",
        "for i in record:\n",
        "  print(str(i).center(15) +\"\\t\"+ str(record[i]['Name']).center(25) + str(record[i]['Quantity']).center(15) )"
      ],
      "execution_count": 14,
      "outputs": [
        {
          "output_type": "stream",
          "name": "stdout",
          "text": [
            "******************************************************\n",
            "\n",
            "   Product ID         PRODUCT NAME          QUANTITY   \n",
            "\n",
            "******************************************************\n",
            "\n",
            "      101      \t         Fivestar              100      \n",
            "      102      \t         Eclairs               500      \n",
            "      103      \t        Diary Milk             200      \n",
            "      104      \t          Bounty               100      \n",
            "      105      \t        Kinder Joy              25      \n",
            "      106      \t           Oreo                 50      \n",
            "      107      \t       Dark Fantasy             20      \n",
            "      108      \t      Hide and Seek             25      \n",
            "      109      \t          Gooday                20      \n",
            "      110      \t         Parle G                20      \n",
            "      111      \t        Red velvet              1       \n",
            "      112      \t         Lavacake               1       \n",
            "      113      \t    Death by Chocolate          1       \n",
            "      114      \t       butterscotch             1       \n",
            "      115      \t      chocolatecake             1       \n",
            "      116      \t           Lays                 20      \n",
            "      117      \t         kurkure                20      \n",
            "      118      \t          bingo                 20      \n",
            "      119      \t        moongdhal               20      \n",
            "      120      \t       littlehearts             15      \n",
            "      121      \t          TooYum                15      \n",
            "      122      \t          Samosa                10      \n",
            "      123      \t          maggie                10      \n",
            "      124      \t         eggpuff                10      \n",
            "      125      \t         vegpuff                10      \n",
            "      126      \t          bread                 5       \n",
            "      127      \t         sandwich               15      \n",
            "      128      \t         icecream               50      \n",
            "      129      \t          juice                 10      \n",
            "      130      \t           Buns                 10      \n",
            "      131      \t         Snickers               20      \n",
            "      132      \t          Munch                 20      \n"
          ]
        }
      ]
    },
    {
      "cell_type": "markdown",
      "metadata": {
        "id": "roDPcl2PG4Rg"
      },
      "source": [
        "### **Purchase Item**"
      ]
    },
    {
      "cell_type": "code",
      "metadata": {
        "id": "GePEk5yvcpuP"
      },
      "source": [
        "sales={}\n",
        "sale_id = 0"
      ],
      "execution_count": 87,
      "outputs": []
    },
    {
      "cell_type": "code",
      "metadata": {
        "colab": {
          "base_uri": "https://localhost:8080/"
        },
        "id": "lXELAt3ZGhDw",
        "outputId": "098ccfab-3fad-4f3e-baf5-4d08686dc1a8"
      },
      "source": [
        "import time\n",
        "while(True):\n",
        "  file = open(\"record.json\",'r')\n",
        "  r = file.read()\n",
        "  file.close()\n",
        "  record = json.loads(r)\n",
        "  id = str(input(\"Enter the product id: \"))\n",
        "  if (id in record):\n",
        "    pass\n",
        "  else:\n",
        "    print(\"Invalid ID\")\n",
        "    print(\"\\n\")\n",
        "    continue\n",
        "  print(\"\\nProduct name :\",record[id]['Name'])\n",
        "  price = int(record[id]['Price'])\n",
        "  print(\"Price :\",record[id]['Price'])\n",
        "  quantity = int(input(\"\\nEnter quantity: \"))\n",
        "  if (quantity > (record[id]['Quantity'])):\n",
        "    print(\"\\nStock Not Available\")\n",
        "    print(\"Available stock :\", record[id]['Quantity'])\n",
        "    print(\"\\n\")\n",
        "  else:\n",
        "    total_price =  price*quantity\n",
        "    print(\"TOTAL AMOUNT :\",total_price)\n",
        "    purchased_quantity = quantity\n",
        "    quantity = int(record[id]['Quantity']) - quantity\n",
        "    record[id]['Quantity'] = quantity\n",
        "    sale_id = sale_id+1\n",
        "    sales[sale_id] = {\"Product ID\":id, \"Name\":str(record[id]['Name']),\"Quantity\":str(purchased_quantity),\"Price\":total_price}\n",
        "    sale = json.dumps(sales)\n",
        "    file = open(\"sales.json\",'w')\n",
        "    file.write(sale)\n",
        "    file.close()\n",
        "    print(\"\\n_______________________________________________________________________\\n\")\n",
        "    print(\"\\n************************************BILL*******************************\")\n",
        "    print(\"\\n_______________________________________________________________________\\n\")\n",
        "    print(\"Product ID\".center(15)+\"PRODUCT NAME\".center(25)+\"QUANTITY\".center(15)+\"PRICE\".center(15))\n",
        "    print(\"\\n-----------------------------------------------------------------------\")\n",
        "    print(str(id.center(15)) + str(record[id]['Name']).center(25) + str(purchased_quantity).center(15) + str(total_price).center(15) )\n",
        "    print(\"\\n-----------------------------------------------------------------------\")\n",
        "    print(\"TOTAL PRICE\".center(55)+str(total_price).center(15))\n",
        "    print(\"\\n-----------------------------------------------------------------------\")\n",
        "    print(\"Date:\",time.ctime())\n",
        "    print(\"\\n_______________________________________________________________________\\n\")\n",
        "    print(\"\\n*********************************THANK YOU***************************\")\n",
        "    print(\"\\n_______________________________________________________________________\\n\")\n",
        "    print(\"\\n\")\n",
        "    break"
      ],
      "execution_count": 107,
      "outputs": [
        {
          "output_type": "stream",
          "name": "stdout",
          "text": [
            "Enter the product id: 128\n",
            "\n",
            "Product name : icecream\n",
            "Price : 50\n",
            "\n",
            "Enter quantity: 1\n",
            "TOTAL AMOUNT : 50\n",
            "\n",
            "_______________________________________________________________________\n",
            "\n",
            "\n",
            "************************************BILL*******************************\n",
            "\n",
            "_______________________________________________________________________\n",
            "\n",
            "   Product ID         PRODUCT NAME          QUANTITY        PRICE     \n",
            "\n",
            "-----------------------------------------------------------------------\n",
            "      128               icecream               1              50      \n",
            "\n",
            "-----------------------------------------------------------------------\n",
            "                      TOTAL PRICE                             50      \n",
            "\n",
            "-----------------------------------------------------------------------\n",
            "Date: Mon Sep  6 15:16:55 2021\n",
            "\n",
            "_______________________________________________________________________\n",
            "\n",
            "\n",
            "*********************************THANK YOU***************************\n",
            "\n",
            "_______________________________________________________________________\n",
            "\n",
            "\n",
            "\n"
          ]
        }
      ]
    },
    {
      "cell_type": "code",
      "metadata": {
        "colab": {
          "base_uri": "https://localhost:8080/"
        },
        "id": "dFSpB_c4L11v",
        "outputId": "d3ca4ae7-cfa0-4843-c88a-24bdf515041f"
      },
      "source": [
        "sales"
      ],
      "execution_count": 105,
      "outputs": [
        {
          "output_type": "execute_result",
          "data": {
            "text/plain": [
              "{1: {'Name': 'Eclairs', 'Price': 5, 'Product ID': '102', 'Quantity': '5'},\n",
              " 2: {'Name': 'Diary Milk', 'Price': 60, 'Product ID': '103', 'Quantity': '3'},\n",
              " 3: {'Name': 'Eclairs', 'Price': 5, 'Product ID': '102', 'Quantity': '5'},\n",
              " 4: {'Name': 'Eclairs', 'Price': 5, 'Product ID': '102', 'Quantity': '5'},\n",
              " 5: {'Name': 'maggie', 'Price': 20, 'Product ID': '123', 'Quantity': '2'},\n",
              " 6: {'Name': 'eggpuff', 'Price': 30, 'Product ID': '124', 'Quantity': '2'},\n",
              " 7: {'Name': 'butterscotch',\n",
              "  'Price': 40,\n",
              "  'Product ID': '114',\n",
              "  'Quantity': '1'},\n",
              " 8: {'Name': 'Munch', 'Price': 5, 'Product ID': '132', 'Quantity': '1'},\n",
              " 9: {'Name': 'Kinder Joy', 'Price': 120, 'Product ID': '105', 'Quantity': '4'},\n",
              " 10: {'Name': 'Dark Fantasy',\n",
              "  'Price': 30,\n",
              "  'Product ID': '107',\n",
              "  'Quantity': '1'},\n",
              " 11: {'Name': 'kurkure', 'Price': 30, 'Product ID': '117', 'Quantity': '3'},\n",
              " 12: {'Name': 'Lavacake', 'Price': 35, 'Product ID': '112', 'Quantity': '1'},\n",
              " 13: {'Name': 'bingo', 'Price': 30, 'Product ID': '118', 'Quantity': '3'},\n",
              " 14: {'Name': 'bread', 'Price': 50, 'Product ID': '126', 'Quantity': '2'}}"
            ]
          },
          "metadata": {},
          "execution_count": 105
        }
      ]
    },
    {
      "cell_type": "markdown",
      "metadata": {
        "id": "W-5GpSHur7dw"
      },
      "source": [
        "### **Sales Report**"
      ]
    },
    {
      "cell_type": "code",
      "metadata": {
        "colab": {
          "base_uri": "https://localhost:8080/"
        },
        "id": "h-vyXRswg7s5",
        "outputId": "7908a238-c43d-44e8-b276-392507546905"
      },
      "source": [
        "import json\n",
        "file = open(\"sales.json\",'r')\n",
        "r = file.read()\n",
        "file.close()\n",
        "record = json.loads(r)\n",
        "print(\"******************************************************************************************\\n\")\n",
        "print(\"Product ID\".center(15)+\"PRODUCT NAME\".center(25)+\"PURCHASED QUANTITY\".center(25)+\"PURCHASED PRICE\".center(25)+\"\\n\")\n",
        "print(\"******************************************************************************************\\n\")\n",
        "sum = 0\n",
        "for i in record:\n",
        "  print(str(i).center(15) + str(record[i]['Name']).center(25) + str(record[i]['Quantity']).center(25) + str(record[i]['Price']).center(25) )\n",
        "  sum = sum + record[i]['Price']\n",
        "print(\"__________________________________________________________________________________________\\n\")\n",
        "print(\"Total Sales Price\".center(65)+str(sum).center(25))\n",
        "print(\"__________________________________________________________________________________________\\n\")"
      ],
      "execution_count": 111,
      "outputs": [
        {
          "output_type": "stream",
          "name": "stdout",
          "text": [
            "******************************************************************************************\n",
            "\n",
            "   Product ID         PRODUCT NAME          PURCHASED QUANTITY        PURCHASED PRICE     \n",
            "\n",
            "******************************************************************************************\n",
            "\n",
            "       1                Eclairs                     5                        5            \n",
            "       2               Diary Milk                   3                        60           \n",
            "       3                Eclairs                     5                        5            \n",
            "       4                Eclairs                     5                        5            \n",
            "       5                 maggie                     2                        20           \n",
            "       6                eggpuff                     2                        30           \n",
            "       7              butterscotch                  1                        40           \n",
            "       8                 Munch                      1                        5            \n",
            "       9               Kinder Joy                   4                       120           \n",
            "       10             Dark Fantasy                  1                        30           \n",
            "       11               kurkure                     3                        30           \n",
            "       12               Lavacake                    1                        35           \n",
            "       13                bingo                      3                        30           \n",
            "       14                bread                      2                        50           \n",
            "       15                Gooday                     2                        20           \n",
            "       16               icecream                    1                        50           \n",
            "__________________________________________________________________________________________\n",
            "\n",
            "                        Total Sales Price                                   535           \n",
            "__________________________________________________________________________________________\n",
            "\n"
          ]
        }
      ]
    },
    {
      "cell_type": "code",
      "metadata": {
        "id": "mk_uTPkOr5jM"
      },
      "source": [
        ""
      ],
      "execution_count": null,
      "outputs": []
    }
  ]
}